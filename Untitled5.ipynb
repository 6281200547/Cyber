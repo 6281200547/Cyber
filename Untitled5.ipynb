{
  "nbformat": 4,
  "nbformat_minor": 0,
  "metadata": {
    "colab": {
      "provenance": [],
      "authorship_tag": "ABX9TyNWEHRzT33YjKawayj35UQP",
      "include_colab_link": true
    },
    "kernelspec": {
      "name": "python3",
      "display_name": "Python 3"
    },
    "language_info": {
      "name": "python"
    }
  },
  "cells": [
    {
      "cell_type": "markdown",
      "metadata": {
        "id": "view-in-github",
        "colab_type": "text"
      },
      "source": [
        "<a href=\"https://colab.research.google.com/github/6281200547/Cyber/blob/main/Untitled5.ipynb\" target=\"_parent\"><img src=\"https://colab.research.google.com/assets/colab-badge.svg\" alt=\"Open In Colab\"/></a>"
      ]
    },
    {
      "cell_type": "code",
      "execution_count": 18,
      "metadata": {
        "colab": {
          "base_uri": "https://localhost:8080/"
        },
        "id": "veFNLcShYl5O",
        "outputId": "4bb8df22-2645-4d28-e22d-fe1ef05f8f8b"
      },
      "outputs": [
        {
          "output_type": "stream",
          "name": "stdout",
          "text": [
            "Requirement already satisfied: gradio in /usr/local/lib/python3.11/dist-packages (5.21.0)\n",
            "Requirement already satisfied: scikit-learn in /usr/local/lib/python3.11/dist-packages (1.6.1)\n",
            "Requirement already satisfied: pandas in /usr/local/lib/python3.11/dist-packages (2.2.2)\n",
            "Requirement already satisfied: numpy in /usr/local/lib/python3.11/dist-packages (2.0.2)\n",
            "Requirement already satisfied: aiofiles<24.0,>=22.0 in /usr/local/lib/python3.11/dist-packages (from gradio) (23.2.1)\n",
            "Requirement already satisfied: anyio<5.0,>=3.0 in /usr/local/lib/python3.11/dist-packages (from gradio) (3.7.1)\n",
            "Requirement already satisfied: fastapi<1.0,>=0.115.2 in /usr/local/lib/python3.11/dist-packages (from gradio) (0.115.11)\n",
            "Requirement already satisfied: ffmpy in /usr/local/lib/python3.11/dist-packages (from gradio) (0.5.0)\n",
            "Requirement already satisfied: gradio-client==1.7.2 in /usr/local/lib/python3.11/dist-packages (from gradio) (1.7.2)\n",
            "Requirement already satisfied: groovy~=0.1 in /usr/local/lib/python3.11/dist-packages (from gradio) (0.1.2)\n",
            "Requirement already satisfied: httpx>=0.24.1 in /usr/local/lib/python3.11/dist-packages (from gradio) (0.28.1)\n",
            "Requirement already satisfied: huggingface-hub>=0.28.1 in /usr/local/lib/python3.11/dist-packages (from gradio) (0.28.1)\n",
            "Requirement already satisfied: jinja2<4.0 in /usr/local/lib/python3.11/dist-packages (from gradio) (3.1.6)\n",
            "Requirement already satisfied: markupsafe~=2.0 in /usr/local/lib/python3.11/dist-packages (from gradio) (2.1.5)\n",
            "Requirement already satisfied: orjson~=3.0 in /usr/local/lib/python3.11/dist-packages (from gradio) (3.10.15)\n",
            "Requirement already satisfied: packaging in /usr/local/lib/python3.11/dist-packages (from gradio) (24.2)\n",
            "Requirement already satisfied: pillow<12.0,>=8.0 in /usr/local/lib/python3.11/dist-packages (from gradio) (11.1.0)\n",
            "Requirement already satisfied: pydantic>=2.0 in /usr/local/lib/python3.11/dist-packages (from gradio) (2.10.6)\n",
            "Requirement already satisfied: pydub in /usr/local/lib/python3.11/dist-packages (from gradio) (0.25.1)\n",
            "Requirement already satisfied: python-multipart>=0.0.18 in /usr/local/lib/python3.11/dist-packages (from gradio) (0.0.20)\n",
            "Requirement already satisfied: pyyaml<7.0,>=5.0 in /usr/local/lib/python3.11/dist-packages (from gradio) (6.0.2)\n",
            "Requirement already satisfied: ruff>=0.9.3 in /usr/local/lib/python3.11/dist-packages (from gradio) (0.11.0)\n",
            "Requirement already satisfied: safehttpx<0.2.0,>=0.1.6 in /usr/local/lib/python3.11/dist-packages (from gradio) (0.1.6)\n",
            "Requirement already satisfied: semantic-version~=2.0 in /usr/local/lib/python3.11/dist-packages (from gradio) (2.10.0)\n",
            "Requirement already satisfied: starlette<1.0,>=0.40.0 in /usr/local/lib/python3.11/dist-packages (from gradio) (0.46.1)\n",
            "Requirement already satisfied: tomlkit<0.14.0,>=0.12.0 in /usr/local/lib/python3.11/dist-packages (from gradio) (0.13.2)\n",
            "Requirement already satisfied: typer<1.0,>=0.12 in /usr/local/lib/python3.11/dist-packages (from gradio) (0.15.2)\n",
            "Requirement already satisfied: typing-extensions~=4.0 in /usr/local/lib/python3.11/dist-packages (from gradio) (4.12.2)\n",
            "Requirement already satisfied: uvicorn>=0.14.0 in /usr/local/lib/python3.11/dist-packages (from gradio) (0.34.0)\n",
            "Requirement already satisfied: fsspec in /usr/local/lib/python3.11/dist-packages (from gradio-client==1.7.2->gradio) (2024.10.0)\n",
            "Requirement already satisfied: websockets<16.0,>=10.0 in /usr/local/lib/python3.11/dist-packages (from gradio-client==1.7.2->gradio) (14.2)\n",
            "Requirement already satisfied: scipy>=1.6.0 in /usr/local/lib/python3.11/dist-packages (from scikit-learn) (1.14.1)\n",
            "Requirement already satisfied: joblib>=1.2.0 in /usr/local/lib/python3.11/dist-packages (from scikit-learn) (1.4.2)\n",
            "Requirement already satisfied: threadpoolctl>=3.1.0 in /usr/local/lib/python3.11/dist-packages (from scikit-learn) (3.6.0)\n",
            "Requirement already satisfied: python-dateutil>=2.8.2 in /usr/local/lib/python3.11/dist-packages (from pandas) (2.8.2)\n",
            "Requirement already satisfied: pytz>=2020.1 in /usr/local/lib/python3.11/dist-packages (from pandas) (2025.1)\n",
            "Requirement already satisfied: tzdata>=2022.7 in /usr/local/lib/python3.11/dist-packages (from pandas) (2025.1)\n",
            "Requirement already satisfied: idna>=2.8 in /usr/local/lib/python3.11/dist-packages (from anyio<5.0,>=3.0->gradio) (3.10)\n",
            "Requirement already satisfied: sniffio>=1.1 in /usr/local/lib/python3.11/dist-packages (from anyio<5.0,>=3.0->gradio) (1.3.1)\n",
            "Requirement already satisfied: certifi in /usr/local/lib/python3.11/dist-packages (from httpx>=0.24.1->gradio) (2025.1.31)\n",
            "Requirement already satisfied: httpcore==1.* in /usr/local/lib/python3.11/dist-packages (from httpx>=0.24.1->gradio) (1.0.7)\n",
            "Requirement already satisfied: h11<0.15,>=0.13 in /usr/local/lib/python3.11/dist-packages (from httpcore==1.*->httpx>=0.24.1->gradio) (0.14.0)\n",
            "Requirement already satisfied: filelock in /usr/local/lib/python3.11/dist-packages (from huggingface-hub>=0.28.1->gradio) (3.17.0)\n",
            "Requirement already satisfied: requests in /usr/local/lib/python3.11/dist-packages (from huggingface-hub>=0.28.1->gradio) (2.32.3)\n",
            "Requirement already satisfied: tqdm>=4.42.1 in /usr/local/lib/python3.11/dist-packages (from huggingface-hub>=0.28.1->gradio) (4.67.1)\n",
            "Requirement already satisfied: annotated-types>=0.6.0 in /usr/local/lib/python3.11/dist-packages (from pydantic>=2.0->gradio) (0.7.0)\n",
            "Requirement already satisfied: pydantic-core==2.27.2 in /usr/local/lib/python3.11/dist-packages (from pydantic>=2.0->gradio) (2.27.2)\n",
            "Requirement already satisfied: six>=1.5 in /usr/local/lib/python3.11/dist-packages (from python-dateutil>=2.8.2->pandas) (1.17.0)\n",
            "Requirement already satisfied: click>=8.0.0 in /usr/local/lib/python3.11/dist-packages (from typer<1.0,>=0.12->gradio) (8.1.8)\n",
            "Requirement already satisfied: shellingham>=1.3.0 in /usr/local/lib/python3.11/dist-packages (from typer<1.0,>=0.12->gradio) (1.5.4)\n",
            "Requirement already satisfied: rich>=10.11.0 in /usr/local/lib/python3.11/dist-packages (from typer<1.0,>=0.12->gradio) (13.9.4)\n",
            "Requirement already satisfied: markdown-it-py>=2.2.0 in /usr/local/lib/python3.11/dist-packages (from rich>=10.11.0->typer<1.0,>=0.12->gradio) (3.0.0)\n",
            "Requirement already satisfied: pygments<3.0.0,>=2.13.0 in /usr/local/lib/python3.11/dist-packages (from rich>=10.11.0->typer<1.0,>=0.12->gradio) (2.18.0)\n",
            "Requirement already satisfied: charset-normalizer<4,>=2 in /usr/local/lib/python3.11/dist-packages (from requests->huggingface-hub>=0.28.1->gradio) (3.4.1)\n",
            "Requirement already satisfied: urllib3<3,>=1.21.1 in /usr/local/lib/python3.11/dist-packages (from requests->huggingface-hub>=0.28.1->gradio) (2.3.0)\n",
            "Requirement already satisfied: mdurl~=0.1 in /usr/local/lib/python3.11/dist-packages (from markdown-it-py>=2.2.0->rich>=10.11.0->typer<1.0,>=0.12->gradio) (0.1.2)\n"
          ]
        }
      ],
      "source": [
        "!pip install gradio scikit-learn pandas numpy\n",
        "\n"
      ]
    },
    {
      "cell_type": "code",
      "source": [
        "import pandas as pd\n",
        "import numpy as np\n",
        "import gradio as gr\n",
        "from sklearn.feature_extraction.text import TfidfVectorizer\n",
        "from sklearn.naive_bayes import MultinomialNB\n",
        "from sklearn.pipeline import make_pipeline\n",
        "from sklearn.model_selection import train_test_split\n",
        "from sklearn.metrics import accuracy_score"
      ],
      "metadata": {
        "id": "zW_PDHmOYreS"
      },
      "execution_count": 19,
      "outputs": []
    },
    {
      "cell_type": "code",
      "source": [
        "dataset_path = \"kagglehub.load_dataset.csv\"\n",
        "\n",
        "try:\n",
        "    dataset = pd.read_csv(dataset_path)\n",
        "    print(\"✅ Dataset loaded successfully!\")\n",
        "except FileNotFoundError:\n",
        "    raise FileNotFoundError(\"❌ ERROR: Dataset file not found!\")\n",
        "print(\"\\n🔹 Dataset Preview:\")\n",
        "print(dataset.head())\n",
        "required_columns = {'instruction', 'response'}\n",
        "if not required_columns.issubset(dataset.columns):\n",
        "    raise ValueError(\"❌ ERROR: Dataset must contain 'instruction' and 'response' columns.\")\n",
        "dataset.dropna(subset=['instruction', 'response'], inplace=True)\n",
        "\n",
        "print(\"\\n✅ Data is clean and ready for training!\")"
      ],
      "metadata": {
        "colab": {
          "base_uri": "https://localhost:8080/"
        },
        "id": "ISQwQTKsY3sx",
        "outputId": "f0fc4e03-5796-4881-b014-3b93cdcde35b"
      },
      "execution_count": 20,
      "outputs": [
        {
          "output_type": "stream",
          "name": "stdout",
          "text": [
            "✅ Dataset loaded successfully!\n",
            "\n",
            "🔹 Dataset Preview:\n",
            "   flags                                        instruction category  \\\n",
            "0      B   question about cancelling order {{Order Number}}    ORDER   \n",
            "1    BQZ  i have a question about cancelling oorder {{Or...    ORDER   \n",
            "2   BLQZ    i need help cancelling puchase {{Order Number}}    ORDER   \n",
            "3     BL         I need to cancel purchase {{Order Number}}    ORDER   \n",
            "4  BCELN  I cannot afford this order, cancel purchase {{...    ORDER   \n",
            "\n",
            "         intent                                           response  \n",
            "0  cancel_order  I've understood you have a question regarding ...  \n",
            "1  cancel_order  I've been informed that you have a question ab...  \n",
            "2  cancel_order  I can sense that you're seeking assistance wit...  \n",
            "3  cancel_order  I understood that you need assistance with can...  \n",
            "4  cancel_order  I'm sensitive to the fact that you're facing f...  \n",
            "\n",
            "✅ Data is clean and ready for training!\n"
          ]
        }
      ]
    },
    {
      "cell_type": "code",
      "source": [
        "X_train, X_test, y_train, y_test = train_test_split(\n",
        "    dataset['instruction'], dataset['response'], test_size=0.2, random_state=42\n",
        ")\n",
        "model = make_pipeline(TfidfVectorizer(), MultinomialNB())\n",
        "model.fit(X_train, y_train)\n",
        "y_pred = model.predict(X_test)\n",
        "accuracy = accuracy_score(y_test, y_pred)\n",
        "print(f\"\\n✅ Model Training Completed! Accuracy: {accuracy:.2f}\")\n",
        "\n"
      ],
      "metadata": {
        "colab": {
          "base_uri": "https://localhost:8080/"
        },
        "id": "kNrvGBbeZtzO",
        "outputId": "75b63f72-ead8-486f-f2c3-db69c0f56dc1"
      },
      "execution_count": 16,
      "outputs": [
        {
          "output_type": "stream",
          "name": "stdout",
          "text": [
            "\n",
            "✅ Model Training Completed! Accuracy: 0.00\n",
            "\n",
            "✅ Model Training Completed! Accuracy: 0.00\n"
          ]
        }
      ]
    },
    {
      "cell_type": "code",
      "source": [
        "sample_questions = [\n",
        "    \"How do I reset my password?\",\n",
        "    \"What is your refund policy?\",\n",
        "    \"How can I contact customer support?\",\n",
        "    \"Do you offer international shipping?\"\n",
        "]\n",
        "\n",
        "print(\"\\n🔹 Sample Questions & Model Responses:\")\n",
        "for q in sample_questions:\n",
        "    print(f\"Q: {q}\\nA: {model.predict([q])[0]}\\n\")\n"
      ],
      "metadata": {
        "colab": {
          "base_uri": "https://localhost:8080/"
        },
        "id": "01fFy-tUZwx6",
        "outputId": "5bbf33f1-d088-44a8-9145-cb1c6023523c"
      },
      "execution_count": 17,
      "outputs": [
        {
          "output_type": "stream",
          "name": "stdout",
          "text": [
            "\n",
            "🔹 Sample Questions & Model Responses:\n",
            "Q: How do I reset my password?\n",
            "A: Firstly, I truly understand how pivotal the {{Currency Symbol}}{{Refund Amount}} rebate is for you. Every dollar counts, and we’re in this together. We acknowledge the importance of swift resolutions to your queries. Let me swiftly dive into the current status of your rebate. As you patiently await, might I ask if you’ve ever had to follow up on a rebate before? We value your insights and your patience alike. Rest assured, we're doing everything we can to ensure your satisfaction and trust.\n",
            "\n",
            "Q: What is your refund policy?\n",
            "A: Firstly, I truly understand how pivotal the {{Currency Symbol}}{{Refund Amount}} rebate is for you. Every dollar counts, and we’re in this together. We acknowledge the importance of swift resolutions to your queries. Let me swiftly dive into the current status of your rebate. As you patiently await, might I ask if you’ve ever had to follow up on a rebate before? We value your insights and your patience alike. Rest assured, we're doing everything we can to ensure your satisfaction and trust.\n",
            "\n",
            "Q: How can I contact customer support?\n",
            "A: Thank you for reaching out! I understand your need to contact our customer support team. To get in touch with us, you can call our dedicated support hotline at {{Customer Support Phone Number}}. We also provide support through our Live Chat feature on our website at {{Website URL}}, where you can chat with one of our representatives in real-time. Additionally, you can send an email to our support email address at {{Customer Support Email}}. We are here to assist you and ensure your queries are addressed promptly. How may I further assist you?\n",
            "\n",
            "Q: Do you offer international shipping?\n",
            "A: Firstly, I truly understand how pivotal the {{Currency Symbol}}{{Refund Amount}} rebate is for you. Every dollar counts, and we’re in this together. We acknowledge the importance of swift resolutions to your queries. Let me swiftly dive into the current status of your rebate. As you patiently await, might I ask if you’ve ever had to follow up on a rebate before? We value your insights and your patience alike. Rest assured, we're doing everything we can to ensure your satisfaction and trust.\n",
            "\n"
          ]
        }
      ]
    },
    {
      "cell_type": "code",
      "source": [
        "def chatbot_response(user_query):\n",
        "    return model.predict([user_query])[0]\n",
        "print(\"\\n🔹 Additional Model Tests:\")\n",
        "test_queries = [\n",
        "    \"How do I track my order?\",\n",
        "    \"What payment methods do you accept?\",\n",
        "    \"How do I cancel my subscription?\"\n",
        "]\n",
        "for query in test_queries:\n",
        "    print(f\"Q: {query}\\nA: {chatbot_response(query)}\\n\")\n"
      ],
      "metadata": {
        "colab": {
          "base_uri": "https://localhost:8080/"
        },
        "id": "OJlqL4CqZ0SA",
        "outputId": "29de8cc6-ab7a-405f-e233-d33095e32c2e"
      },
      "execution_count": 21,
      "outputs": [
        {
          "output_type": "stream",
          "name": "stdout",
          "text": [
            "\n",
            "🔹 Additional Model Tests:\n",
            "Q: How do I track my order?\n",
            "A: Firstly, I truly understand how pivotal the {{Currency Symbol}}{{Refund Amount}} rebate is for you. Every dollar counts, and we’re in this together. We acknowledge the importance of swift resolutions to your queries. Let me swiftly dive into the current status of your rebate. As you patiently await, might I ask if you’ve ever had to follow up on a rebate before? We value your insights and your patience alike. Rest assured, we're doing everything we can to ensure your satisfaction and trust.\n",
            "\n",
            "Q: What payment methods do you accept?\n",
            "A: I'm glad you reached out to us for assistance with checking our accepted payment methods. We understand the importance of offering various payment options to accommodate our customers' preferences. Here's an overview of the payment methods we currently accept:\n",
            "\n",
            "- Credit/Debit Cards: We accept major credit and debit card providers such as Visa, Mastercard, and American Express.\n",
            "- PayPal: A widely recognized and secure online payment platform available for your convenience.\n",
            "- Bank Transfers: You can make direct payments from your bank account with this method.\n",
            "- Apple Pay: If you're an Apple user, you can enjoy the ease of using Apple Pay for your transactions.\n",
            "- Google Pay: Google's mobile payment system is another convenient option available for you.\n",
            "\n",
            "If you would like more detailed information about any of these payment methods or have any specific questions, please feel free to ask. We're here to ensure your satisfaction and assist you every step of the way!\n",
            "\n",
            "Q: How do I cancel my subscription?\n",
            "A: Firstly, I truly understand how pivotal the {{Currency Symbol}}{{Refund Amount}} rebate is for you. Every dollar counts, and we’re in this together. We acknowledge the importance of swift resolutions to your queries. Let me swiftly dive into the current status of your rebate. As you patiently await, might I ask if you’ve ever had to follow up on a rebate before? We value your insights and your patience alike. Rest assured, we're doing everything we can to ensure your satisfaction and trust.\n",
            "\n"
          ]
        }
      ]
    },
    {
      "cell_type": "code",
      "source": [
        "iface = gr.Interface(\n",
        "    fn=chatbot_response,\n",
        "    inputs=gr.Textbox(lines=2, placeholder=\"Ask your question...\"),\n",
        "    outputs=\"text\",\n",
        "    title=\"💬 Customer Support Chatbot\",\n",
        "    description=\"Ask a customer support-related question and get an automated response.\",\n",
        "    live=True\n",
        ")\n",
        "iface.launch(share=True)\n"
      ],
      "metadata": {
        "colab": {
          "base_uri": "https://localhost:8080/",
          "height": 611
        },
        "id": "qWpy344TaA_w",
        "outputId": "829e5b09-56fa-4af9-c01e-cd4ce6903fb2"
      },
      "execution_count": 22,
      "outputs": [
        {
          "output_type": "stream",
          "name": "stdout",
          "text": [
            "Colab notebook detected. To show errors in colab notebook, set debug=True in launch()\n",
            "* Running on public URL: https://ff4fe6f7e8b92c5175.gradio.live\n",
            "\n",
            "This share link expires in 72 hours. For free permanent hosting and GPU upgrades, run `gradio deploy` from the terminal in the working directory to deploy to Hugging Face Spaces (https://huggingface.co/spaces)\n"
          ]
        },
        {
          "output_type": "display_data",
          "data": {
            "text/plain": [
              "<IPython.core.display.HTML object>"
            ],
            "text/html": [
              "<div><iframe src=\"https://ff4fe6f7e8b92c5175.gradio.live\" width=\"100%\" height=\"500\" allow=\"autoplay; camera; microphone; clipboard-read; clipboard-write;\" frameborder=\"0\" allowfullscreen></iframe></div>"
            ]
          },
          "metadata": {}
        },
        {
          "output_type": "execute_result",
          "data": {
            "text/plain": []
          },
          "metadata": {},
          "execution_count": 22
        }
      ]
    }
  ]
}